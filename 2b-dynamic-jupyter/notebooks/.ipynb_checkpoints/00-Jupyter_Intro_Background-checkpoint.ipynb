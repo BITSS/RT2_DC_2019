{
 "cells": [
  {
   "cell_type": "markdown",
   "metadata": {
    "slideshow": {
     "slide_type": "slide"
    }
   },
   "source": [
    "# Jupyter Notebooks: Hands-on"
   ]
  },
  {
   "cell_type": "markdown",
   "metadata": {
    "slideshow": {
     "slide_type": "slide"
    }
   },
   "source": [
    "<center><h3>Tim Dennis, UCLA/Library Data Science Center: \n",
    "    I support researchers engaged <br />in data-intensive scholarship primarily in the social and behavioral sciences</h3></center>"
   ]
  },
  {
   "cell_type": "markdown",
   "metadata": {
    "slideshow": {
     "slide_type": "slide"
    }
   },
   "source": [
    "![R2T Orientation](images/r2t-orientation.png)"
   ]
  },
  {
   "cell_type": "markdown",
   "metadata": {
    "slideshow": {
     "slide_type": "slide"
    }
   },
   "source": [
    "## Dynamic Documents \n",
    "\n",
    "\n",
    ">The basic idea behind dynamic documents stems from **literate programming**,\n",
    "a programming paradigm conceived by Donald Knuth...A **dynamic document** is not entirely different from a computer program: for a dynamic document, we need to run software packages to compile our ideas (often implemented as source code) into numeric\n",
    "or graphical output, and insert the output into our literal writings (like\n",
    "documentation).  \n",
    "   -- Yihui Xie, *Dynamic Documents with Rand knitr*"
   ]
  },
  {
   "cell_type": "markdown",
   "metadata": {
    "slideshow": {
     "slide_type": "slide"
    }
   },
   "source": [
    "## Literate Programming\n",
    "\n",
    "> Let us change our traditional attitude to the construction of programs: Instead of imagining that our main task is to instruct a computer what to do, let us concentrate rather on explaining to human beings what we want a computer to do.    \n",
    "-- Donald Knuth, Literate Programming (1984)"
   ]
  },
  {
   "cell_type": "markdown",
   "metadata": {
    "slideshow": {
     "slide_type": "slide"
    }
   },
   "source": [
    "**Dynamic documents are described as:**\n",
    "\n",
    "* Runnable\n",
    "* Compilable \n",
    "* Interleaved executable code with explanatory text, mathematics, and rich representations of resulting objects"
   ]
  },
  {
   "cell_type": "markdown",
   "metadata": {
    "slideshow": {
     "slide_type": "slide"
    }
   },
   "source": [
    "\n",
    "* How to organize your work?\n",
    "* How to make work more pleasant for you?\n",
    "* How to make it navigable by others?\n",
    "* How to reduce tedium and manual processes?\n",
    "* How to reduce friction for collaboration?\n",
    "* How to reduce friction for communication?\n",
    "\n",
    "\n",
    "*Specific tools and habits can build alot of this into\n",
    "the normal coding and analysis process* \n",
    "\n",
    "From: [Jenny Bryan Reproducible Science Workshop](https://github.com/datacarpentry/rr-literate-programming/blob/gh-pages/slides/lit-prog-slides/lit-prog-slides.pdf)\n",
    "\n",
    "<aside class=\"notes\">\n",
    "\t\tWhat we are getting at here \n",
    "</aside>   "
   ]
  },
  {
   "cell_type": "markdown",
   "metadata": {
    "slideshow": {
     "slide_type": "slide"
    }
   },
   "source": [
    "#### Getting the analysis right is only one link\n",
    "\n",
    "Process, packaging, and presentation are often the weak link\n",
    "\n",
    "![Weak Link](images/brokenChain.jpg)\n",
    "\n",
    "From: [Jenny Bryan Reproducible Science Workshop](https://github.com/datacarpentry/rr-literate-programming/blob/gh-pages/slides/lit-prog-slides/lit-prog-slides.pdf)"
   ]
  },
  {
   "cell_type": "markdown",
   "metadata": {
    "slideshow": {
     "slide_type": "slide"
    }
   },
   "source": [
    "### Example from Jupyter\n",
    "[![Notebook sections example](images/jupyter-notebook-sections-.png)](https://cdn-images-1.medium.com/max/2000/1*dl30JL7jWGPtxuJIuJGGRg.png)\n",
    "\n",
    "From: [We Analyzed 1 Million Jupyter Notebooks — Now You Can Too](https://blog.jupyter.org/we-analyzed-1-million-jupyter-notebooks-now-you-can-too-guest-post-8116a964b536)"
   ]
  },
  {
   "cell_type": "markdown",
   "metadata": {
    "slideshow": {
     "slide_type": "slide"
    }
   },
   "source": [
    "## So, what is Jupyter?\n",
    "\n",
    "**Jupyter** notebook, formerly known as IPython (or Interactive Python), is a flexible and powerful open source research tool that can help you keep a narrative of your coding process. The name Jupyter is an acronym of the three core languages it was designed for: **JU**lia, **PYT**hon, and **R**. Project Jupyter supports interactive data science and scientific computing across more than [40 programming languages](https://github.com/jupyter/jupyter/wiki/Jupyter-kernels) (Stata, SAS, etc.).\n",
    "\n",
    "<img src=\"images/Jupyter_logo.PNG\" style=\"width: 500px;\"/>\n",
    "<center><font size=\"2\">https://jupyter.org/</font></center>"
   ]
  },
  {
   "cell_type": "markdown",
   "metadata": {
    "slideshow": {
     "slide_type": "slide"
    }
   },
   "source": [
    "## Jupyter as Coding Diary\n",
    "\n",
    "You can think of the notebook as a lab or field diary that keeps a detailed record of the steps you take as you develop scripts and programming workflows. Just as you would with a field notebook, it is important to develop good note-taking habits. This workshop is designed to impart a set of skills, tools, and best practices you can implement in your own research to enhance reprodubility, which will make modifications, collaboration, and publishing easier. \n",
    "\n",
    "<img src=\"images/Field-Code_Notes.png\" style=\"width: 750px;\"/>"
   ]
  },
  {
   "cell_type": "markdown",
   "metadata": {
    "slideshow": {
     "slide_type": "slide"
    }
   },
   "source": [
    "## Jupyter Architecture\n",
    "\n",
    "Jupyter is comprised of several components, some of which the user doesn't directly interact with, but should at least be aware of. On the **front-end**, the user will work with the:\n",
    "\n",
    "1. **Web Application:** Browser-based tool for interactive development of notebook documents \n",
    "2. **Notebook Document:** \n",
    "  * All content displayed in the application, including inputs and outputs of the code, explanatory text, mathematics, images, and rich media representations of objects. \n",
    "  * Documents are internally JavaScript Object Notation (JSON) files and are saved with the `.ipynb` extension. Since JSON is a plain text format, they can be version-controlled and shared with colleagues."
   ]
  },
  {
   "cell_type": "markdown",
   "metadata": {
    "slideshow": {
     "slide_type": "slide"
    }
   },
   "source": [
    "#### This is what `.ipynb` notebooks look like in the file as JSON: \n",
    "\n",
    "![Example JSON from Notebook](images/jupyter-json.png)"
   ]
  },
  {
   "cell_type": "markdown",
   "metadata": {
    "slideshow": {
     "slide_type": "slide"
    }
   },
   "source": [
    "#### This is what it looks like rendered in a notebook:\n",
    "\n",
    "![Rendered in the notebook](images/jupyter-json-rendered-notebook.png)"
   ]
  },
  {
   "cell_type": "markdown",
   "metadata": {
    "slideshow": {
     "slide_type": "slide"
    }
   },
   "source": [
    "Jupyter also has some **back-end** processes, including the:\n",
    "\n",
    "3. **Kernel:** A separate process responsible for running user code. For the purposes of this workshop, we will be working on Python kernels, although Jupyter is capable of interfacing with other programming languages as well. \n",
    "4. **Notebook Server:** Communicates with kernel and routes the Python programming language to the web browser. \n",
    "\n",
    "<img src=\"images/notebook_components.png\" style=\"width: 500px;\"/>\n",
    "\n",
    "#### Curious to learn more? Refer to these Jupyter documents:\n",
    "http://jupyter-notebook.readthedocs.io/en/latest/notebook.html\n",
    "http://jupyter.readthedocs.io/en/latest/architecture/how_jupyter_ipython_work.html"
   ]
  },
  {
   "cell_type": "markdown",
   "metadata": {
    "slideshow": {
     "slide_type": "slide"
    }
   },
   "source": [
    "## Why are Jupyter Notebooks a powerful tool for conducting reproducible research? \n",
    "\n",
    "Jupyter Notebooks are great because they **facilitate**:\n",
    "\n",
    "* **Documentation and literate programming** by combining rich-text narrative *concepts* & machine-readable *code*. The notebeook itself is a data-structure with metadata that can be easily read and parsed. \n",
    "* **Exploration & development**: Intermediate steps are saved in a clean, well documented format\n",
    "* **Communication/Collaboration**: sharing research with peers, collaborators, reviewers, public\n",
    "* **Publishing**: It is simple and quick switch between the development & publishing stage\n"
   ]
  },
  {
   "cell_type": "markdown",
   "metadata": {
    "slideshow": {
     "slide_type": "slide"
    }
   },
   "source": [
    "## Jupyter Ecosystem\n",
    "There has been considerable development by both Project Jupyter and external collaborators that have yielded a multitude of options for Jupyter users. This diagram gives a sample of some of the possibilities.\n",
    "<img src=\"images/Jupyter_ecosystem.png\" style=\"width: 500px;\"/>"
   ]
  },
  {
   "cell_type": "markdown",
   "metadata": {
    "slideshow": {
     "slide_type": "slide"
    }
   },
   "source": [
    "## Jupyter Notebooks Summary\n",
    "\n",
    "* In-browser editing for code\n",
    "* Executes code from the browser, with the results of code following the code cell that generates it \n",
    "Displays results of computation using outputs, such as HTML, LaTeX, PNG, SVG, etc.\n",
    "* In-browser editing for rich text using the Markdown markup language that provides commentary for the code\n",
    "* Can include mathematical notation within markdown cells using LaTeX, and rendered natively by MathJax"
   ]
  },
  {
   "cell_type": "markdown",
   "metadata": {
    "slideshow": {
     "slide_type": "slide"
    }
   },
   "source": [
    "## Project Jupyter Resources\n",
    "\n",
    "- Project Jupyter [Homepage](http://jupyter.org/)\n",
    "- Project Jupyter [Google group](https://groups.google.com/forum/#!forum/jupyter)\n",
    "- Jupyter [documentation](https://jupyter.readthedocs.io/en/latest/)\n",
    "- [GitHub](https://github.com/jupyter/help)\n",
    "- Free Project Jupyter tutorials:\n",
    "    - [Readthedocs](https://jupyter-notebook-beginner-guide.readthedocs.io/en/latest/)\n",
    "    - [YouTube](https://www.youtube.com/watch?v=Rc4JQWowG5I)\n",
    "- List of interesing [Jupyter Notebooks](https://github.com/jupyter/jupyter/wiki/A-gallery-of-interesting-Jupyter-Notebooks)"
   ]
  },
  {
   "cell_type": "markdown",
   "metadata": {
    "slideshow": {
     "slide_type": "slide"
    }
   },
   "source": [
    "<center><h1>Markdown</h1></center>\n",
    "\n",
    "<center><img src =\"images/if_markdown_298823.png\"> </center>"
   ]
  },
  {
   "cell_type": "markdown",
   "metadata": {
    "slideshow": {
     "slide_type": "slide"
    }
   },
   "source": [
    "## Markdown\n",
    "\n",
    "- **Markdown** is a particular type of markup language. Markup languages are designed to produce documents from plain text.\n",
    "- You may be familiar with **LaTeX**, another (though less human friendly) text markup language.\n",
    "- Tools render markdown to different formats (for example, HTML/pdf/Word).\n",
    "  - The main tool for rendering Markdown is [pandoc](http://pandoc.org/).\n",
    "\n",
    "This section adapted from: [Carson Sievert's markdown slides](http://cpsievert.github.io/slides/markdown/#/1)"
   ]
  },
  {
   "cell_type": "markdown",
   "metadata": {
    "slideshow": {
     "slide_type": "slide"
    }
   },
   "source": [
    "### Markdown enables fast publication to the web\n",
    "\n",
    "- **Markdown** Easy to write and read in an editor.\n",
    "- **HTML** Easy to publish and read on web.\n"
   ]
  },
  {
   "cell_type": "raw",
   "metadata": {
    "slideshow": {
     "slide_type": "slide"
    }
   },
   "source": [
    "<pre>\n",
    "\n",
    "# Title (header 1, actually)\n",
    "\n",
    "This is a Markdown document.\n",
    "\n",
    "## Medium header (header 2, actually)\n",
    "\n",
    "It's easy to do *italics* or __make things bold__.\n",
    "\n",
    "> All models are wrong, but some are useful. An\n",
    "approximate answer to the right problem is worth a\n",
    "good deal more than an exact answer to an\n",
    "approximate problem. \n",
    "\n",
    "```\n",
    "x <- 3 * 4\n",
    "```\n",
    "\n",
    "I can haz equations. Inline equations, such as ...\n",
    "the average is computed as $\\frac{1}{n} \\sum_{i=1}\n",
    "^{n} x_{i}$. Or display equations like this:\n",
    "\n",
    "$$\n",
    "\\begin{equation*}\n",
    "|x|=\n",
    "\\begin{cases} x & \\text{if $x≥0$,} \\\\\\\\\n",
    "-x &\\text{if $x\\le 0$.}\n",
    "\\end{cases}\n",
    "\\end{equation*}\n",
    "$$\n",
    "\n",
    "</pre>"
   ]
  },
  {
   "cell_type": "markdown",
   "metadata": {
    "slideshow": {
     "slide_type": "subslide"
    }
   },
   "source": [
    "# Title (header 1, actually)\n",
    "\n",
    "This is a Markdown document.\n",
    "\n",
    "## Medium header (header 2, actually)\n",
    "\n",
    "It's easy to do *italics* or __make things bold__.\n",
    "\n",
    "> All models are wrong, but some are useful. An\n",
    "approximate answer to the right problem is worth a\n",
    "good deal more than an exact answer to an\n",
    "approximate problem. \n",
    "\n",
    "```\n",
    "x <- 3 * 4\n",
    "```\n",
    "\n",
    "I can haz equations. Inline equations, such as ...\n",
    "the average is computed as $\\frac{1}{n} \\sum_{i=1}\n",
    "^{n} x_{i}$. Or display equations like this:\n",
    "\n",
    "$$\n",
    "\\begin{equation*}\n",
    "|x|=\n",
    "\\begin{cases} x & \\text{if $x≥0$,} \\\\\\\\\n",
    "-x &\\text{if $x\\le 0$.}\n",
    "\\end{cases}\n",
    "\\end{equation*}\n",
    "$$"
   ]
  },
  {
   "cell_type": "markdown",
   "metadata": {
    "slideshow": {
     "slide_type": "slide"
    }
   },
   "source": [
    "## Markdown can be rendered to multiple formats\n",
    "\n",
    "- **pandoc** is a Swiss-army knife tool for conversion`\n",
    "\n",
    "[![](images/pandoc-diagram.jpg)](https://raw.githubusercontent.com/datacarpentry/rr-literate-programming/gh-pages/media/pandoc-diagram.jpg)\n"
   ]
  },
  {
   "cell_type": "markdown",
   "metadata": {
    "slideshow": {
     "slide_type": "slide"
    }
   },
   "source": [
    "## Why it is great: \n",
    "\n",
    "\n",
    "* Easy to learn and use\n",
    "* Focus on **content**, rather than **coding** and **debugging errors**.\n",
    "* It's flexible. Markdown was created to simplify HTML, but with the right tools, your Markdown files can easily be converted to many different formats!\n",
    "* Once you get the basics down, you can get fancy with `HTML`, `CSS` and `JavaScript`"
   ]
  },
  {
   "cell_type": "markdown",
   "metadata": {
    "slideshow": {
     "slide_type": "slide"
    }
   },
   "source": [
    "## Today: Hands-on with Jupyter Notebooks\n",
    "\n",
    "* You need Anaconda Python to follow along <https://www.anaconda.com/download> \n",
    "* We'll use this Etherpad to share instructions, notes, data and links: <https://pad.carpentries.org/rt2-dynamic-jupyter>\n",
    "    - Please open that page up! "
   ]
  }
 ],
 "metadata": {
  "celltoolbar": "Slideshow",
  "kernelspec": {
   "display_name": "Python [default]",
   "language": "python",
   "name": "python3"
  },
  "language_info": {
   "codemirror_mode": {
    "name": "ipython",
    "version": 3
   },
   "file_extension": ".py",
   "mimetype": "text/x-python",
   "name": "python",
   "nbconvert_exporter": "python",
   "pygments_lexer": "ipython3",
   "version": "3.5.4"
  },
  "widgets": {
   "state": {},
   "version": "1.1.2"
  }
 },
 "nbformat": 4,
 "nbformat_minor": 1
}
